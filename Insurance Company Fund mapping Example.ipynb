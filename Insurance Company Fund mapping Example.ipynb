{
 "cells": [
  {
   "cell_type": "markdown",
   "id": "first-heritage",
   "metadata": {},
   "source": [
    "### Sample Insurance Company Fund mapping"
   ]
  },
  {
   "cell_type": "markdown",
   "id": "foreign-active",
   "metadata": {},
   "source": [
    "#### Data type: Time series"
   ]
  },
  {
   "cell_type": "code",
   "execution_count": null,
   "id": "desperate-ownership",
   "metadata": {},
   "outputs": [],
   "source": [
    "import pandas as pd\n",
    "import numpy as np\n",
    "import matplotlib.pyplot as plt\n",
    "import datetime\n",
    "import math\n",
    "from sklearn.model_selection import GridSearchCV \n",
    "from sklearn.model_selection import train_test_split\n",
    "from sklearn.linear_model import ElasticNet\n",
    "from sklearn.linear_model import ElasticNetCV\n",
    "from sklearn.linear_model import LinearRegression\n",
    "from sklearn.linear_model import SGDRegressor\n",
    "from sklearn.metrics import mean_squared_error as MSE\n",
    "from sklearn.metrics import r2_score\n",
    "from sklearn.linear_model import HuberRegressor\n",
    "from sklearn.pipeline import Pipeline\n",
    "from sklearn.preprocessing import StandardScaler\n",
    "import csv\n",
    "import os\n",
    "from pyfinance.ols import PandasRollingOLS\n",
    "import statsmodels.api as sm"
   ]
  },
  {
   "cell_type": "markdown",
   "id": "cooperative-singles",
   "metadata": {},
   "source": [
    "#### Data pre processing"
   ]
  },
  {
   "cell_type": "code",
   "execution_count": null,
   "id": "fixed-liechtenstein",
   "metadata": {},
   "outputs": [],
   "source": [
    "#get a list of funds to run regression\n",
    "fund_SECID = list(set(funds['SECID'].tolist()))\n",
    "\n",
    "#get tradeable index data such as S&P returns, etc\n",
    "indices_data = pd.read_excel(os.path.join(os.path.dirname(__file__), \"index_data.xlsx\"),engine='openpyxl')\n",
    "\n",
    "#get mutual fund returns\n",
    "#regression assumes underlying data is stationary, so we need to convert price levels to returns for modeling\n",
    "NAV = pd.read_excel(os.path.join(os.path.dirname(__file__), \"mutual_fund_prices.xlsx\"),engine='openpyxl')\n",
    "\n",
    "#compile a large data set with both tradeable index data and mutual fund data\n",
    "#dates will also be aligned\n",
    "data=pd.merge(NAV, indices_data, on=None, left_index=True, right_index=True, how='left')"
   ]
  },
  {
   "cell_type": "markdown",
   "id": "allied-welcome",
   "metadata": {},
   "source": [
    "#### Modeling (simplified)"
   ]
  },
  {
   "cell_type": "code",
   "execution_count": null,
   "id": "signal-translation",
   "metadata": {},
   "outputs": [],
   "source": [
    "for ind in fund_SECID: #loop through all underlying mutual funds one at a time\n",
    "        indices_fund = ['SPX_TOT_RETURN'] \n",
    "        indices_fund.append(ind) #append target variable (mutual fund return)\n",
    "        baseline = data[indices_fund]\n",
    "        baseline_return = pd.DataFrame(baseline.resample(\"W-MON\").ffill().pct_change().dropna()) #calculate weekly returns\n",
    "            \n",
    "        x = baseline_return[indices]\n",
    "        y = baseline_return[ind]\n",
    "\n",
    "        betas = list()\n",
    "\n",
    "        xtrain = pd.DataFrame(x[:-12])\n",
    "        xtest = pd.DataFrame(x[-12:]) #last quarter of return is the holdout set\n",
    "        ytrain = pd.DataFrame(y[:-12])\n",
    "        ytest = pd.DataFrame(y[-12:]) #last quarter of return is the holdout set\n",
    "        \n",
    "        #Train model\n",
    "        elasticCV = ElasticNetCV(cv=5) # ElasticNet regularized regression with cross validation \n",
    "        enet_model = elasticCV.fit(xtrain, ytrain) \n",
    "\n",
    "        #Test model\n",
    "        y_pred = enet_model.predict(xtest.values)\n",
    "        y_fitted = enet_model.predict(xtrain.values)\n",
    "     \n",
    "        betas.append(output)\n",
    "\n",
    "        results=results.append(betas)\n",
    "\n",
    "results.to_csv('results.csv')"
   ]
  }
 ],
 "metadata": {
  "kernelspec": {
   "display_name": "Python 3",
   "language": "python",
   "name": "python3"
  },
  "language_info": {
   "codemirror_mode": {
    "name": "ipython",
    "version": 3
   },
   "file_extension": ".py",
   "mimetype": "text/x-python",
   "name": "python",
   "nbconvert_exporter": "python",
   "pygments_lexer": "ipython3",
   "version": "3.7.1"
  }
 },
 "nbformat": 4,
 "nbformat_minor": 5
}
